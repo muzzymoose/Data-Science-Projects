{
 "cells": [
  {
   "cell_type": "markdown",
   "id": "57e26102-2f99-43ff-80c3-253edf1551da",
   "metadata": {},
   "source": [
    " <p style=\"padding:10px;background-color:BLACK;margin:0;color:white;font-family:newtimeroman;font-size:150%;text-align:center;border-radius: 15px 15px;overflow:hidden;font-weight:500\">Importing a CSV file into a postgres database</p>"
   ]
  },
  {
   "cell_type": "markdown",
   "id": "077d6e7c-1312-4dfc-bbfc-0213739616c1",
   "metadata": {},
   "source": [
    "#### Steps\n",
    "* Import the CSV file into a pandas df\n",
    "* clean the table name and remove all extra symbols, spacces, capital letters\n",
    "* clean the column headers and remove all extra symbol, spaces, capital letters\n",
    "* write the create table SQL statement\n",
    "* import the data into the db"
   ]
  },
  {
   "cell_type": "code",
   "execution_count": 1,
   "id": "d885dcb3-2ae4-4934-a311-9eef8cbc436c",
   "metadata": {},
   "outputs": [],
   "source": [
    "import os\n",
    "import numpy as np\n",
    "import pandas as pd\n",
    "import psycopg2"
   ]
  },
  {
   "cell_type": "code",
   "execution_count": 3,
   "id": "4f54066b-1fab-4cf5-b8d1-e22947c97248",
   "metadata": {},
   "outputs": [
    {
     "name": "stdout",
     "output_type": "stream",
     "text": [
      " Volume in drive C has no label.\n",
      " Volume Serial Number is 20EB-B907\n",
      "\n",
      " Directory of C:\\Users\\User\\Desktop\\SQL\\Bike Store Relational Database\\archive (4)\n",
      "\n",
      "21/08/2024  10:29 AM    <DIR>          .\n",
      "21/08/2024  10:29 AM    <DIR>          ..\n",
      "21/08/2024  10:29 AM    <DIR>          .ipynb_checkpoints\n",
      "21/08/2023  02:31 PM               120 brands.csv\n",
      "21/08/2023  02:31 PM               162 categories.csv\n",
      "21/08/2024  10:26 AM            14,243 csvtosql.ipynb\n",
      "21/08/2023  02:31 PM           127,671 customers.csv\n",
      "21/08/2023  02:31 PM           112,937 order_items.csv\n",
      "21/08/2023  02:31 PM            77,286 orders.csv\n",
      "21/08/2023  02:31 PM            17,390 products.csv\n",
      "21/08/2023  02:31 PM               726 staffs.csv\n",
      "21/08/2023  02:31 PM             8,773 stocks.csv\n",
      "21/08/2023  02:31 PM               330 stores.csv\n",
      "              10 File(s)        359,638 bytes\n",
      "               3 Dir(s)  69,041,201,152 bytes free\n"
     ]
    }
   ],
   "source": [
    "%ls"
   ]
  },
  {
   "cell_type": "code",
   "execution_count": 216,
   "id": "28f5209e-21d4-43e4-89be-e292ca1fa692",
   "metadata": {},
   "outputs": [
    {
     "data": {
      "text/html": [
       "<div>\n",
       "<style scoped>\n",
       "    .dataframe tbody tr th:only-of-type {\n",
       "        vertical-align: middle;\n",
       "    }\n",
       "\n",
       "    .dataframe tbody tr th {\n",
       "        vertical-align: top;\n",
       "    }\n",
       "\n",
       "    .dataframe thead th {\n",
       "        text-align: right;\n",
       "    }\n",
       "</style>\n",
       "<table border=\"1\" class=\"dataframe\">\n",
       "  <thead>\n",
       "    <tr style=\"text-align: right;\">\n",
       "      <th></th>\n",
       "      <th>store_id</th>\n",
       "      <th>store_name</th>\n",
       "      <th>phone</th>\n",
       "      <th>email</th>\n",
       "      <th>street</th>\n",
       "      <th>city</th>\n",
       "      <th>state</th>\n",
       "      <th>zip_code</th>\n",
       "    </tr>\n",
       "  </thead>\n",
       "  <tbody>\n",
       "    <tr>\n",
       "      <th>0</th>\n",
       "      <td>1</td>\n",
       "      <td>Santa Cruz Bikes</td>\n",
       "      <td>(831) 476-4321</td>\n",
       "      <td>santacruz@bikes.shop</td>\n",
       "      <td>3700 Portola Drive</td>\n",
       "      <td>Santa Cruz</td>\n",
       "      <td>CA</td>\n",
       "      <td>95060</td>\n",
       "    </tr>\n",
       "    <tr>\n",
       "      <th>1</th>\n",
       "      <td>2</td>\n",
       "      <td>Baldwin Bikes</td>\n",
       "      <td>(516) 379-8888</td>\n",
       "      <td>baldwin@bikes.shop</td>\n",
       "      <td>4200 Chestnut Lane</td>\n",
       "      <td>Baldwin</td>\n",
       "      <td>NY</td>\n",
       "      <td>11432</td>\n",
       "    </tr>\n",
       "    <tr>\n",
       "      <th>2</th>\n",
       "      <td>3</td>\n",
       "      <td>Rowlett Bikes</td>\n",
       "      <td>(972) 530-5555</td>\n",
       "      <td>rowlett@bikes.shop</td>\n",
       "      <td>8000 Fairway Avenue</td>\n",
       "      <td>Rowlett</td>\n",
       "      <td>TX</td>\n",
       "      <td>75088</td>\n",
       "    </tr>\n",
       "  </tbody>\n",
       "</table>\n",
       "</div>"
      ],
      "text/plain": [
       "   store_id        store_name           phone                 email  \\\n",
       "0         1  Santa Cruz Bikes  (831) 476-4321  santacruz@bikes.shop   \n",
       "1         2     Baldwin Bikes  (516) 379-8888    baldwin@bikes.shop   \n",
       "2         3     Rowlett Bikes  (972) 530-5555    rowlett@bikes.shop   \n",
       "\n",
       "                street        city state  zip_code  \n",
       "0   3700 Portola Drive  Santa Cruz    CA     95060  \n",
       "1   4200 Chestnut Lane     Baldwin    NY     11432  \n",
       "2  8000 Fairway Avenue     Rowlett    TX     75088  "
      ]
     },
     "execution_count": 216,
     "metadata": {},
     "output_type": "execute_result"
    }
   ],
   "source": [
    "df = pd.read_csv('stores.csv')\n",
    "df.head()"
   ]
  },
  {
   "cell_type": "code",
   "execution_count": 218,
   "id": "f8ae29ef-456c-46a2-8f82-8e7015250599",
   "metadata": {},
   "outputs": [
    {
     "data": {
      "text/plain": [
       "'stores'"
      ]
     },
     "execution_count": 218,
     "metadata": {},
     "output_type": "execute_result"
    }
   ],
   "source": [
    "# clean table names\n",
    "# lower case letters\n",
    "# remove all $\n",
    "# replace -, / , \\\\ , whitespace with _\n",
    "\n",
    "file = 'stores'\n",
    "\n",
    "clean_tbl_name = file.lower().replace(' ','_').replace('?','') \\\n",
    "                    .replace('-','_').replace(r'/','_').replace('\\\\','_').replace('%','')  \\\n",
    "                    .replace(')','').replace(r'(','').replace('$','')\n",
    "\n",
    "clean_tbl_name"
   ]
  },
  {
   "cell_type": "code",
   "execution_count": 220,
   "id": "f1ad8843-ddc4-4c1f-89c6-66d392df79cf",
   "metadata": {},
   "outputs": [
    {
     "data": {
      "text/plain": [
       "Index(['store_id', 'store_name', 'phone', 'email', 'street', 'city', 'state',\n",
       "       'zip_code'],\n",
       "      dtype='object')"
      ]
     },
     "execution_count": 220,
     "metadata": {},
     "output_type": "execute_result"
    }
   ],
   "source": [
    "# clean table names\n",
    "# lower case letters\n",
    "# remove all $\n",
    "# replace -, / , \\\\ , whitespace with _\n",
    "\n",
    "df.columns = [x.lower().replace(' ','_').replace('?','') \\\n",
    "                    .replace('-','_').replace(r'/','_').replace('\\\\','_').replace('%','')  \\\n",
    "                    .replace(')','').replace(r'(','').replace('$','') for x in df.columns]\n",
    "df.columns"
   ]
  },
  {
   "cell_type": "code",
   "execution_count": 39,
   "id": "168e0563-dc5d-4930-b86c-b21600bff407",
   "metadata": {
    "jp-MarkdownHeadingCollapsed": true
   },
   "outputs": [],
   "source": [
    "# EXAMPLE : create SQL CREATE TABLE\n",
    "# (\n",
    "#     customer_name          varchar,\n",
    "#     start_date             varchar,\n",
    "#     end_date               varchar,\n",
    "#     contract_amount_m      float,\n",
    "#     invoice_sent           varchar,\n",
    "#     paid                   varchar\n",
    "# );"
   ]
  },
  {
   "cell_type": "code",
   "execution_count": 222,
   "id": "6ea89b4f-30b4-4f99-9f3a-ca16eab9b8e3",
   "metadata": {},
   "outputs": [
    {
     "data": {
      "text/plain": [
       "store_id       int64\n",
       "store_name    object\n",
       "phone         object\n",
       "email         object\n",
       "street        object\n",
       "city          object\n",
       "state         object\n",
       "zip_code       int64\n",
       "dtype: object"
      ]
     },
     "execution_count": 222,
     "metadata": {},
     "output_type": "execute_result"
    }
   ],
   "source": [
    "df.dtypes"
   ]
  },
  {
   "cell_type": "code",
   "execution_count": 224,
   "id": "892d26fc-ff01-41d3-8078-4cfa7f1c4cdb",
   "metadata": {},
   "outputs": [
    {
     "data": {
      "text/plain": [
       "{'object': 'varchar',\n",
       " 'float64': 'float',\n",
       " 'int64': 'int',\n",
       " 'datetime64': 'timestamp',\n",
       " 'timedelta64[ns]': 'varchar'}"
      ]
     },
     "execution_count": 224,
     "metadata": {},
     "output_type": "execute_result"
    }
   ],
   "source": [
    "replacements = {\n",
    "    'object' : 'varchar',\n",
    "    'float64' : 'float',\n",
    "    'int64' : 'int',\n",
    "    'datetime64' : 'timestamp',\n",
    "    'timedelta64[ns]' : 'varchar'\n",
    "}\n",
    "\n",
    "replacements"
   ]
  },
  {
   "cell_type": "code",
   "execution_count": 226,
   "id": "55bbfb14-7a00-45a0-be5e-bca3479c4728",
   "metadata": {},
   "outputs": [
    {
     "data": {
      "text/plain": [
       "'store_id int, store_name varchar, phone varchar, email varchar, street varchar, city varchar, state varchar, zip_code int'"
      ]
     },
     "execution_count": 226,
     "metadata": {},
     "output_type": "execute_result"
    }
   ],
   "source": [
    "col_str = ', '.join('{} {}'.format(n,d) for (n,d) in zip(df.columns, df.dtypes.replace(replacements)))\n",
    "col_str"
   ]
  },
  {
   "cell_type": "code",
   "execution_count": 228,
   "id": "ae1c23d1-8559-4bb0-8774-e0296388721f",
   "metadata": {},
   "outputs": [
    {
     "name": "stdout",
     "output_type": "stream",
     "text": [
      "Opened database successfully\n"
     ]
    }
   ],
   "source": [
    "#open a database connection\n",
    "conn_string = \"host=localhost \\\n",
    "                port=5432 \\\n",
    "                dbname=bikestore \\\n",
    "                user=postgres \\\n",
    "                password=XXXXX connect_timeout=10 sslmode=prefer\"\n",
    "\n",
    "conn = psycopg2.connect(conn_string)\n",
    "cursor = conn.cursor()\n",
    "print('Opened database successfully')"
   ]
  },
  {
   "cell_type": "code",
   "execution_count": 230,
   "id": "c8ddcf4f-a29d-4cd3-8a93-d2dc25f67e52",
   "metadata": {},
   "outputs": [],
   "source": [
    "# drop tables with same name\n",
    "cursor.execute('drop table if exists stores;')"
   ]
  },
  {
   "cell_type": "code",
   "execution_count": 232,
   "id": "25f88728-0c93-4ec5-9516-d9667ab80d2a",
   "metadata": {},
   "outputs": [],
   "source": [
    "# create table [just copy paste output from col_str]\n",
    "cursor.execute(\"create table stores \\\n",
    "            (store_id int, store_name varchar, phone varchar, email varchar, street varchar, city varchar, state varchar, zip_code int)\")"
   ]
  },
  {
   "cell_type": "code",
   "execution_count": 234,
   "id": "29abc7d1-dd96-4de6-9a80-9ec952d752b4",
   "metadata": {},
   "outputs": [
    {
     "name": "stdout",
     "output_type": "stream",
     "text": [
      "file opened in memory\n"
     ]
    }
   ],
   "source": [
    "# insert values to table\n",
    "\n",
    "# save df to csv\n",
    "df.to_csv('stores.csv', header=df.columns, index=False, encoding='utf-8')\n",
    "\n",
    "# open the csv file, save it as an object, and upload to db\n",
    "my_file = open('stores.csv')\n",
    "print('file opened in memory')"
   ]
  },
  {
   "cell_type": "code",
   "execution_count": 236,
   "id": "390bb369-eb3f-4501-b0e4-4cd0ef08ee8f",
   "metadata": {},
   "outputs": [
    {
     "name": "stdout",
     "output_type": "stream",
     "text": [
      "file copied to db\n"
     ]
    }
   ],
   "source": [
    "# upload to db\n",
    "\n",
    "SQL_STATEMENT = \"\"\"\n",
    "COPY stores FROM STDIN WITH\n",
    "    CSV\n",
    "    HEADER\n",
    "    DELIMITER AS ','\n",
    "\"\"\"\n",
    "\n",
    "cursor.copy_expert(sql=SQL_STATEMENT, file=my_file)\n",
    "print('file copied to db')"
   ]
  },
  {
   "cell_type": "code",
   "execution_count": 238,
   "id": "789059f8-6b56-4240-bb7c-e373beab1480",
   "metadata": {},
   "outputs": [
    {
     "name": "stdout",
     "output_type": "stream",
     "text": [
      "table stores imported to db completed\n"
     ]
    }
   ],
   "source": [
    "cursor.execute('grant select on table stores to public')\n",
    "conn.commit()\n",
    "\n",
    "cursor.close()\n",
    "print('table stores imported to db completed')"
   ]
  },
  {
   "cell_type": "code",
   "execution_count": null,
   "id": "cd4499a4-2bdf-467f-ad8f-675bead01c9f",
   "metadata": {},
   "outputs": [],
   "source": []
  },
  {
   "cell_type": "code",
   "execution_count": null,
   "id": "61a563c4-8c28-4b57-b018-6cb04c79987d",
   "metadata": {},
   "outputs": [],
   "source": []
  },
  {
   "cell_type": "code",
   "execution_count": null,
   "id": "dd0e6c3c-d625-49cd-8fcb-e216321acada",
   "metadata": {},
   "outputs": [],
   "source": []
  },
  {
   "cell_type": "code",
   "execution_count": null,
   "id": "292c871e-964b-47ba-a71b-a52cd3ba82b5",
   "metadata": {},
   "outputs": [],
   "source": []
  },
  {
   "cell_type": "code",
   "execution_count": null,
   "id": "f48fcd75-78b2-4916-aaac-ed2f984f46eb",
   "metadata": {},
   "outputs": [],
   "source": []
  },
  {
   "cell_type": "code",
   "execution_count": null,
   "id": "d65b24b5-d6e9-47c2-80ef-64c49af2655b",
   "metadata": {},
   "outputs": [],
   "source": []
  },
  {
   "cell_type": "code",
   "execution_count": null,
   "id": "9de71650-180c-4cbc-877a-50cf79fcb8a3",
   "metadata": {},
   "outputs": [],
   "source": []
  }
 ],
 "metadata": {
  "kernelspec": {
   "display_name": "Python 3 (ipykernel)",
   "language": "python",
   "name": "python3"
  },
  "language_info": {
   "codemirror_mode": {
    "name": "ipython",
    "version": 3
   },
   "file_extension": ".py",
   "mimetype": "text/x-python",
   "name": "python",
   "nbconvert_exporter": "python",
   "pygments_lexer": "ipython3",
   "version": "3.11.7"
  }
 },
 "nbformat": 4,
 "nbformat_minor": 5
}
